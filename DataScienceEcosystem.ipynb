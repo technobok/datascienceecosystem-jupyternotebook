{
 "cells": [
  {
   "cell_type": "markdown",
   "id": "5cbf6da1-e494-4ebb-a5cb-5ae7c935c725",
   "metadata": {},
   "source": [
    "# Data Science Tools and Ecosystem"
   ]
  },
  {
   "cell_type": "markdown",
   "id": "ab54db5b-8417-4cd8-ab0b-19b7cd00ffc4",
   "metadata": {},
   "source": [
    "In this notebook, Data Science Tools and Ecosystem are summarised."
   ]
  },
  {
   "cell_type": "markdown",
   "id": "26991031-0a41-4260-a336-10e1c4ba0e16",
   "metadata": {},
   "source": [
    "Some of the popular languages that Data Scientists use are:\n",
    "\n",
    "1. Python\n",
    "2. R\n",
    "3. Scala\n",
    "4. Java\n",
    "5. Julia\n"
   ]
  },
  {
   "cell_type": "markdown",
   "id": "2d67f39f-86d7-4b1e-8ab1-bc63449f62ee",
   "metadata": {},
   "source": [
    "Some of the commonly used libraries used by Data Scientists include:\n",
    "\n",
    "1. Pandas\n",
    "2. NumPy\n",
    "3. Matplotlib\n",
    "4. Scikit-Learn\n",
    "5. Caret\n",
    "6. TensorFlow\n",
    "7. PyTorch\n",
    "8. NLTK\n"
   ]
  },
  {
   "cell_type": "markdown",
   "id": "d04df127-0dd2-44c4-ae75-f5ea735587fe",
   "metadata": {},
   "source": [
    "Some of the commonly used tools used by Data Scientists include:\n",
    "    \n",
    "| Data Science Tools |\n",
    "| ------------------ |\n",
    "| PostgreSQL         |\n",
    "| Hadoop             |\n",
    "| Jupyter            |\n",
    "| RStudio            |\n",
    "| Apache Spark SQL   |\n",
    "| Apache Airflow     |\n",
    "| Apache Superset    |\n",
    "| Kubernetes         |\n",
    "| Git                |\n",
    "\n",
    "\n"
   ]
  },
  {
   "cell_type": "markdown",
   "id": "36ef9ca3-6810-4b55-88cb-4d69845ac6f9",
   "metadata": {},
   "source": [
    "### Below are a few examples of evaluating arithmetic expressions in Python."
   ]
  },
  {
   "cell_type": "code",
   "execution_count": 2,
   "id": "47846f6f-34bb-4c9d-aeb3-8ce3a33f0ca0",
   "metadata": {
    "tags": []
   },
   "outputs": [
    {
     "data": {
      "text/plain": [
       "17"
      ]
     },
     "execution_count": 2,
     "metadata": {},
     "output_type": "execute_result"
    }
   ],
   "source": [
    "# this is a simple arithmetic expression to multiply then add integers\n",
    "(3*4)+5"
   ]
  },
  {
   "cell_type": "code",
   "execution_count": 4,
   "id": "11adb8dd-5ad6-4a9c-83a3-7f1430599139",
   "metadata": {
    "tags": []
   },
   "outputs": [
    {
     "name": "stdout",
     "output_type": "stream",
     "text": [
      "200 minutes is 3.3333333333333335 hours\n"
     ]
    }
   ],
   "source": [
    "# this will convert 200 minutes into hours by dividing by 60\n",
    "\n",
    "minutes = 200\n",
    "hours = 200 / 60\n",
    "print(f\"{minutes} minutes is {hours} hours\")"
   ]
  },
  {
   "cell_type": "markdown",
   "id": "326dfdc6-e94e-4978-b9eb-d38075a71db6",
   "metadata": {},
   "source": [
    "**Objectives:**\n",
    "\n",
    "* List some popular languages that Data Scientists use\n",
    "* List some common libraries that Data Scientists use\n",
    "* List some popular tools that Data Scientists use\n",
    "* Show evaluation of some simple Python expressions in a Jupyter notebook\n",
    "\n"
   ]
  },
  {
   "cell_type": "markdown",
   "id": "75ad18f6-eed2-4605-8837-580087fe24e2",
   "metadata": {},
   "source": [
    "## Author\n",
    "\n",
    "Paul Webb"
   ]
  },
  {
   "cell_type": "code",
   "execution_count": null,
   "id": "6ea601a7-862b-4376-8375-980d1ac47527",
   "metadata": {},
   "outputs": [],
   "source": []
  }
 ],
 "metadata": {
  "kernelspec": {
   "display_name": "Python",
   "language": "python",
   "name": "conda-env-python-py"
  },
  "language_info": {
   "codemirror_mode": {
    "name": "ipython",
    "version": 3
   },
   "file_extension": ".py",
   "mimetype": "text/x-python",
   "name": "python",
   "nbconvert_exporter": "python",
   "pygments_lexer": "ipython3",
   "version": "3.7.12"
  }
 },
 "nbformat": 4,
 "nbformat_minor": 5
}
